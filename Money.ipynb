{
 "cells": [
  {
   "cell_type": "code",
   "execution_count": 1,
   "id": "17912f05",
   "metadata": {},
   "outputs": [
    {
     "name": "stdout",
     "output_type": "stream",
     "text": [
      "[198, 734, 19754, 80682, 88, 402, 14]\n"
     ]
    }
   ],
   "source": [
    "import math\n",
    "money = [99, 367, 9877,40341, 44, 201, 7]\n",
    "def bankInterest(money):\n",
    "    double = []\n",
    "    for x in money:\n",
    "        result = x*2\n",
    "        double.append(result)\n",
    "    return double\n",
    "print(bankInterest(money))\n",
    "        \n",
    "    "
   ]
  }
 ],
 "metadata": {
  "kernelspec": {
   "display_name": "Python 3 (ipykernel)",
   "language": "python",
   "name": "python3"
  },
  "language_info": {
   "codemirror_mode": {
    "name": "ipython",
    "version": 3
   },
   "file_extension": ".py",
   "mimetype": "text/x-python",
   "name": "python",
   "nbconvert_exporter": "python",
   "pygments_lexer": "ipython3",
   "version": "3.9.12"
  }
 },
 "nbformat": 4,
 "nbformat_minor": 5
}
